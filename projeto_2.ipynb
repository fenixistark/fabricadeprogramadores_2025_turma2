{
 "cells": [
  {
   "cell_type": "markdown",
   "id": "1ba2259c",
   "metadata": {},
   "source": [
    "# Projeto 2: Relatório de Preços para o Mercado Brasileiro 💰 \n",
    "---\n",
    "## O Cenário ✨\n",
    "Você foi contratado como programador pela \"Global Tech\", uma gigante do varejo online que está expandindo suas operações para o Brasil. Atualmente, a lista de preços de todos os produtos da empresa está em um arquivo de texto, vendas_dolar.txt, com os valores em Dólar Americano (USD).\n",
    "\n",
    "A equipe de finanças no Brasil precisa urgentemente de um relatório com esses preços convertidos para Real Brasileiro (BRL) para poderem planejar a estratégia de marketing. Eles precisam que essa tarefa seja automatizada.\n",
    "\n",
    "Sua Missão: Criar um script em Python que leia cada preço do arquivo vendas_dolar.txt, converta-o para Real e salve o resultado em um novo arquivo chamado vendas_real.txt. O script também deve exibir uma mensagem de sucesso ao final da operação."
   ]
  },
  {
   "cell_type": "code",
   "execution_count": null,
   "id": "560ad3bb",
   "metadata": {},
   "outputs": [],
   "source": [
    "def converter_dolar_para_real(valor_dolar, taxa_cambio=5.20):\n",
    "    return valor_dolar * taxa_cambio\n",
    "\n",
    "def converter_arquivo_precos(arquivo_entrada, arquivo_saida, taxa_cambio=5.20):\n",
    "    with open(arquivo_entrada, 'r') as fin, open(arquivo_saida, 'w') as fout:\n",
    "        for linha in fin:\n",
    "            linha = linha.strip()\n",
    "            if linha:\n",
    "                try:\n",
    "                    valor_dolar = float(linha)\n",
    "                    valor_real = converter_dolar_para_real(valor_dolar, taxa_cambio)\n",
    "                    fout.write(f\"{valor_real:.2f}\\n\")\n",
    "                except ValueError:\n",
    "                    print(f\"Aviso: Linha inválida ignorada -> '{linha}'\")\n",
    "\n",
    "if __name__ == \"__main__\":\n",
    "    arquivo_entrada = \"vendas_dolar.txt\"\n",
    "    arquivo_saida = \"vendas_real.txt\"\n",
    "    taxa_cambio = 5.20\n",
    "\n",
    "    converter_arquivo_precos(arquivo_entrada, arquivo_saida, taxa_cambio)\n",
    "    print(f\"Conversão concluída com sucesso! Os preços em Real estão no arquivo '{arquivo_saida}'.\")\n"
   ]
  }
 ],
 "metadata": {
  "kernelspec": {
   "display_name": "Python 3",
   "language": "python",
   "name": "python3"
  },
  "language_info": {
   "name": "python",
   "version": "3.13.3"
  }
 },
 "nbformat": 4,
 "nbformat_minor": 5
}
